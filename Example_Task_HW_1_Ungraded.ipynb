{
  "nbformat": 4,
  "nbformat_minor": 0,
  "metadata": {
    "colab": {
      "provenance": [],
      "include_colab_link": true
    },
    "kernelspec": {
      "name": "python3",
      "display_name": "Python 3"
    },
    "language_info": {
      "name": "python"
    }
  },
  "cells": [
    {
      "cell_type": "markdown",
      "metadata": {
        "id": "view-in-github",
        "colab_type": "text"
      },
      "source": [
        "<a href=\"https://colab.research.google.com/github/FREDRICAPPAU/msa550-code-files/blob/main/Example_Task_HW_1_Ungraded.ipynb\" target=\"_parent\"><img src=\"https://colab.research.google.com/assets/colab-badge.svg\" alt=\"Open In Colab\"/></a>"
      ]
    },
    {
      "cell_type": "code",
      "execution_count": null,
      "metadata": {
        "id": "4sllfcbSyfbF"
      },
      "outputs": [],
      "source": []
    },
    {
      "cell_type": "markdown",
      "source": [
        "#Python Practice Notebook"
      ],
      "metadata": {
        "id": "jZDCLbx1ymY5"
      }
    },
    {
      "cell_type": "code",
      "source": [
        "#  Here you can import necessary libraries\n",
        "import pandas as pd\n",
        "import numpy as np\n",
        "import matplotlib.pyplot as plt\n",
        "import seaborn as sns\n",
        "import math\n",
        "import statistics\n",
        "import random"
      ],
      "metadata": {
        "id": "s-DcjA91yjfn"
      },
      "execution_count": null,
      "outputs": []
    },
    {
      "cell_type": "markdown",
      "source": [
        "##Task 1: Python Basics and Variables"
      ],
      "metadata": {
        "id": "uw417JVey4wT"
      }
    },
    {
      "cell_type": "code",
      "source": [
        "\"\"\"\n",
        "Create variables for your name, age, and favorite color.\n",
        "Then create a formatted string that says \"My name is [name], I am [age] years old, and my favorite color is [color].\"\n",
        "Print this string.\n",
        "\"\"\"\n",
        "# Your code here\n",
        "\n",
        "# Define variables\n",
        "name = \"Fredrica\"\n",
        "age = 29\n",
        "favorite_color = \"pink\"\n",
        "\n",
        "# Create and print the formatted string\n",
        "print(f\"My name is {name}, I am {age} years old, and my favorite color is {favorite_color}.\")\n",
        "\n",
        "print(\"test\")\n",
        "\n"
      ],
      "metadata": {
        "id": "KOFP07eXy-u_",
        "colab": {
          "base_uri": "https://localhost:8080/"
        },
        "outputId": "62e01f7e-d4e8-4567-e9ab-9b7d515619eb"
      },
      "execution_count": 2,
      "outputs": [
        {
          "output_type": "stream",
          "name": "stdout",
          "text": [
            "My name is Fredrica, I am 29 years old, and my favorite color is pink.\n",
            "test\n"
          ]
        }
      ]
    },
    {
      "cell_type": "markdown",
      "source": [
        "##Task 2: Input and Output"
      ],
      "metadata": {
        "id": "C0eM6v9ezFJ9"
      }
    },
    {
      "cell_type": "code",
      "source": [
        "\"\"\"\n",
        "Ask the user for their weight in kilograms and height in meters.\n",
        "Calculate their BMI (Body Mass Index) using the formula: BMI = weight / (height^2)\n",
        "Print the result with 2 decimal places.\n",
        "\"\"\"\n",
        "# Your code here\n",
        "\n",
        "# Enter height and weight information\n",
        "weight = float(input(\"Enter your weight in kg: 78.57 \"))\n",
        "height = float(input(\"Enter your height in meters: 1.5240 \"))\n",
        "\n",
        "# Calculate BMI\n",
        "bmi = weight / (height ** 2)\n",
        "\n",
        "# Print the result with 2 decimal places\n",
        "print(f\"Your BMI is: {bmi:.2f}\")\n",
        "\n",
        "\n",
        "\n",
        "\n",
        "\n"
      ],
      "metadata": {
        "id": "1qmqXYsozIDs",
        "colab": {
          "base_uri": "https://localhost:8080/"
        },
        "outputId": "0d4dcb3c-70bd-43a1-abd9-d7f6081f136f"
      },
      "execution_count": 16,
      "outputs": [
        {
          "output_type": "stream",
          "name": "stdout",
          "text": [
            "Enter your weight in kg: 78.57 78.57\n",
            "Enter your height in meters: 1.5240 1.5240\n",
            "Your BMI is: 33.83\n"
          ]
        }
      ]
    },
    {
      "cell_type": "markdown",
      "source": [
        "## Task 3: Numbers and Math Module"
      ],
      "metadata": {
        "id": "93lFBJ9pzP2r"
      }
    },
    {
      "cell_type": "code",
      "source": [
        "\"\"\"\n",
        "Using the math module, calculate the area of a circle with radius 7.5 units.\n",
        "Then, calculate the volume of a sphere with the same radius.\n",
        "Print both results rounded to 3 decimal places.\n",
        "\"\"\"\n",
        "# Your code here\n",
        "\n",
        "import math\n",
        "\n",
        "# Given radius\n",
        "radius = 7.5\n",
        "\n",
        "# Calculate area and volume\n",
        "area_circle = math.pi * radius ** 2\n",
        "volume_sphere = (4/3) * math.pi * radius ** 3\n",
        "\n",
        "# Print results\n",
        "print(f\"Area of the circle: {area_circle:.3f}\")\n",
        "print(f\"Volume of the sphere: {volume_sphere:.3f}\")\n",
        "\n"
      ],
      "metadata": {
        "id": "4MjUW2gkzQ8N",
        "colab": {
          "base_uri": "https://localhost:8080/"
        },
        "outputId": "138952d4-d8ab-4cce-f3d0-68ab42334b7f"
      },
      "execution_count": 7,
      "outputs": [
        {
          "output_type": "stream",
          "name": "stdout",
          "text": [
            "Area of the circle: 176.715\n",
            "Volume of the sphere: 1767.146\n"
          ]
        }
      ]
    },
    {
      "cell_type": "markdown",
      "source": [
        "##Task 4: Strings"
      ],
      "metadata": {
        "id": "5o7LTM8rzVM3"
      }
    },
    {
      "cell_type": "code",
      "source": [
        "\"\"\"\n",
        "Create a string variable with the text \"Python Programming\".\n",
        "Print the following:\n",
        "1. The length of the string\n",
        "2. The string in all uppercase\n",
        "3. The last 5 characters of the string\n",
        "4. The string with all 'P' replaced by 'J'\n",
        "\"\"\"\n",
        "# Your code here\n",
        "\n",
        "# Define the string\n",
        "text = \"Python Programming\"\n",
        "\n",
        "# Perform operations\n",
        "print(\"Length of string:\", len(text))\n",
        "print(\"Uppercase:\", text.upper())\n",
        "print(\"Last 5 characters:\", text[-5:])\n",
        "print(\"Replace 'P' with 'J':\", text.replace(\"P\", \"J\"))\n",
        "\n"
      ],
      "metadata": {
        "id": "c95xLu4ozWgF",
        "colab": {
          "base_uri": "https://localhost:8080/"
        },
        "outputId": "4c507a1c-c703-4a49-8ee8-7bf65f343531"
      },
      "execution_count": 8,
      "outputs": [
        {
          "output_type": "stream",
          "name": "stdout",
          "text": [
            "Length of string: 18\n",
            "Uppercase: PYTHON PROGRAMMING\n",
            "Last 5 characters: mming\n",
            "Replace 'P' with 'J': Jython Jrogramming\n"
          ]
        }
      ]
    },
    {
      "cell_type": "markdown",
      "source": [
        "## Task 5: Conditionals"
      ],
      "metadata": {
        "id": "Fjn6Dn-azYra"
      }
    },
    {
      "cell_type": "code",
      "source": [
        "\"\"\"\n",
        "Write a program that asks the user for their age.\n",
        "If the age is less than 18, print \"You are a minor.\"\n",
        "If the age is between 18 and 65, print \"You are an adult.\"\n",
        "If the age is 65 or older, print \"You are a senior citizen.\"\n",
        "\"\"\"\n",
        "# Your code here\n",
        "\n",
        "# enter my age\n",
        "age = int(input(\"Enter your age: 29\"))\n",
        "\n",
        "# Conditional statements\n",
        "if age < 18:\n",
        "    print(\"You are a minor.\")\n",
        "elif 18 <= age < 65:\n",
        "    print(\"You are an adult.\")\n",
        "else:\n",
        "    print(\"You are a senior citizen.\")\n"
      ],
      "metadata": {
        "id": "nTwJJmEczbGc",
        "colab": {
          "base_uri": "https://localhost:8080/"
        },
        "outputId": "f96151f6-15c5-4916-9144-614181eb9b1e"
      },
      "execution_count": 13,
      "outputs": [
        {
          "output_type": "stream",
          "name": "stdout",
          "text": [
            "Enter your age: 2929\n",
            "You are an adult.\n"
          ]
        }
      ]
    },
    {
      "cell_type": "markdown",
      "source": [
        "## Task 6: Iterations"
      ],
      "metadata": {
        "id": "pyyrWjpBzeJV"
      }
    },
    {
      "cell_type": "code",
      "source": [
        "\"\"\"\n",
        "Use a for loop to print the first 10 Fibonacci numbers.\n",
        "The Fibonacci sequence starts with 0 and 1, and each subsequent number is the sum of the two preceding ones.\n",
        "\"\"\"\n",
        "# Your code here\n",
        "\n",
        "# Initialize first two Fibonacci numbers\n",
        "fib_numbers = [0, 1]\n",
        "\n",
        "# Generate the first 10 Fibonacci numbers\n",
        "for i in range(8):\n",
        "    fib_numbers.append(fib_numbers[-1] + fib_numbers[-2])\n",
        "\n",
        "print(\"First 10 Fibonacci numbers:\", fib_numbers)\n",
        "\n"
      ],
      "metadata": {
        "id": "OQ3iBjnCzgoY",
        "colab": {
          "base_uri": "https://localhost:8080/"
        },
        "outputId": "30e25178-47f8-4d62-c4ca-6b1ad1cd75dc"
      },
      "execution_count": 17,
      "outputs": [
        {
          "output_type": "stream",
          "name": "stdout",
          "text": [
            "First 10 Fibonacci numbers: [0, 1, 1, 2, 3, 5, 8, 13, 21, 34]\n"
          ]
        }
      ]
    },
    {
      "cell_type": "markdown",
      "source": [
        "## Task 7: Lists"
      ],
      "metadata": {
        "id": "6iWBomoyzjJB"
      }
    },
    {
      "cell_type": "code",
      "source": [
        "\"\"\"\n",
        "Create a list of 10 random numbers between 1 and 100.\n",
        "Then, create a new list that contains only the even numbers from the original list.\n",
        "Print both lists.\n",
        "\"\"\"\n",
        "# Your code here\n",
        "\n",
        "import random\n",
        "\n",
        "# Generate a list of 10 random numbers\n",
        "random_numbers = [random.randint(1, 100) for _ in range(10)]\n",
        "even_numbers = [num for num in random_numbers if num % 2 == 0]\n",
        "\n",
        "print(\"Original list:\", random_numbers)\n",
        "print(\"Even numbers:\", even_numbers)\n"
      ],
      "metadata": {
        "id": "f57oc88ozkdo",
        "colab": {
          "base_uri": "https://localhost:8080/"
        },
        "outputId": "8cef4003-f5c6-4ea9-c401-24fbc551d536"
      },
      "execution_count": 18,
      "outputs": [
        {
          "output_type": "stream",
          "name": "stdout",
          "text": [
            "Original list: [40, 31, 32, 46, 47, 88, 51, 14, 76, 84]\n",
            "Even numbers: [40, 32, 46, 88, 14, 76, 84]\n"
          ]
        }
      ]
    },
    {
      "cell_type": "markdown",
      "source": [
        "## Task 8: Functions"
      ],
      "metadata": {
        "id": "GL5ZTRnJznPo"
      }
    },
    {
      "cell_type": "code",
      "source": [
        "\"\"\"\n",
        "Write a function called 'is_prime' that takes a number as an argument and returns True if the number is prime, and False otherwise.\n",
        "Test your function with the numbers 17 and 24.\n",
        "\"\"\"\n",
        "# Your code here\n",
        "\n",
        "def is_prime(number):\n",
        "    if number < 2:\n",
        "        return False\n",
        "    for i in range(2, int(math.sqrt(number)) + 1):\n",
        "        if number % i == 0:\n",
        "            return False\n",
        "    return True\n",
        "\n",
        "# Test the function\n",
        "print(\"17 is prime:\", is_prime(17))\n",
        "print(\"24 is prime:\", is_prime(24))\n"
      ],
      "metadata": {
        "id": "CMZEpZ0nzoUM",
        "colab": {
          "base_uri": "https://localhost:8080/"
        },
        "outputId": "b1815936-5b44-44d5-d23e-f7ef77cefa1d"
      },
      "execution_count": 19,
      "outputs": [
        {
          "output_type": "stream",
          "name": "stdout",
          "text": [
            "17 is prime: True\n",
            "24 is prime: False\n"
          ]
        }
      ]
    },
    {
      "cell_type": "markdown",
      "source": [
        "## Task 9: Dictionaries"
      ],
      "metadata": {
        "id": "fG9_IgKlzq7a"
      }
    },
    {
      "cell_type": "code",
      "source": [
        "\"\"\"\n",
        "Create a dictionary representing a simple inventory system for a small store.\n",
        "The keys should be item names, and the values should be dictionaries containing the price and quantity of each item.\n",
        "Add at least 5 items to your inventory.\n",
        "Then, write a function that calculates the total value of the inventory.\n",
        "\"\"\"\n",
        "# Your code here\n",
        "\n",
        "# Inventory dictionary\n",
        "inventory = {\n",
        "    \"apple\": {\"price\": 1.5, \"quantity\": 30},\n",
        "    \"banana\": {\"price\": 0.5, \"quantity\": 50},\n",
        "    \"orange\": {\"price\": 0.8, \"quantity\": 40},\n",
        "    \"mango\": {\"price\": 2.0, \"quantity\": 20},\n",
        "    \"grapes\": {\"price\": 3.0, \"quantity\": 25},\n",
        "}\n",
        "\n",
        "def total_inventory_value(inventory):\n",
        "    total = 0\n",
        "    for item in inventory.values():\n",
        "        total += item[\"price\"] * item[\"quantity\"]\n",
        "    return total\n",
        "\n",
        "print(\"Total inventory value:\", total_inventory_value(inventory))\n"
      ],
      "metadata": {
        "id": "dak-1UJqzs0e",
        "colab": {
          "base_uri": "https://localhost:8080/"
        },
        "outputId": "e7c58ead-fb72-4bb1-9b8e-6e2ccd4a3ac2"
      },
      "execution_count": 20,
      "outputs": [
        {
          "output_type": "stream",
          "name": "stdout",
          "text": [
            "Total inventory value: 217.0\n"
          ]
        }
      ]
    },
    {
      "cell_type": "markdown",
      "source": [
        "## Task 10: Pandas"
      ],
      "metadata": {
        "id": "pmN47lxgzuxC"
      }
    },
    {
      "cell_type": "code",
      "source": [
        "\"\"\"\n",
        "Create a DataFrame with the following data:\n",
        "Name: ['Alice', 'Bob', 'Charlie', 'David', 'Eve']\n",
        "Age: [25, 30, 35, 28, 22]\n",
        "City: ['New York', 'San Francisco', 'Los Angeles', 'Chicago', 'Boston']\n",
        "Salary: [50000, 70000, 65000, 55000, 45000]\n",
        "\n",
        "Then, perform the following operations:\n",
        "1. Sort the DataFrame by Salary in descending order\n",
        "2. Calculate the average age\n",
        "3. Find the person with the highest salary\n",
        "4. Create a new column 'Salary_Category' where salary > 60000 is 'High', otherwise 'Low'\n",
        "\"\"\"\n",
        "# Your code here\n",
        "\n",
        "import pandas as pd\n",
        "\n",
        "# Data for the DataFrame\n",
        "data = {\n",
        "    \"Name\": [\"Alice\", \"Bob\", \"Charlie\", \"David\", \"Eve\"],\n",
        "    \"Age\": [25, 30, 35, 28, 22],\n",
        "    \"City\": [\"New York\", \"San Francisco\", \"Los Angeles\", \"Chicago\", \"Boston\"],\n",
        "    \"Salary\": [50000, 70000, 65000, 55000, 45000],\n",
        "}\n",
        "\n",
        "# Create DataFrame\n",
        "df = pd.DataFrame(data)\n",
        "\n",
        "# 1. Sort by Salary in descending order\n",
        "sorted_df = df.sort_values(by=\"Salary\", ascending=False)\n",
        "print(\"Sorted DataFrame by Salary:\\n\", sorted_df)\n",
        "\n",
        "# 2. Calculate average age\n",
        "average_age = df[\"Age\"].mean()\n",
        "print(\"Average age:\", average_age)\n",
        "\n",
        "# 3. Find person with the highest salary\n",
        "highest_salary_person = df.loc[df[\"Salary\"].idxmax()]\n",
        "print(\"Person with the highest salary:\\n\", highest_salary_person)\n",
        "\n",
        "# 4. Add Salary_Category column\n",
        "df[\"Salary_Category\"] = df[\"Salary\"].apply(lambda x: \"High\" if x > 60000 else \"Low\")\n",
        "print(\"DataFrame with Salary Category:\\n\", df)\n",
        "\n"
      ],
      "metadata": {
        "id": "r_zFSELQzw8Y",
        "colab": {
          "base_uri": "https://localhost:8080/"
        },
        "outputId": "89a8ae69-35ee-403b-b880-a9f13c48bd3e"
      },
      "execution_count": 21,
      "outputs": [
        {
          "output_type": "stream",
          "name": "stdout",
          "text": [
            "Sorted DataFrame by Salary:\n",
            "       Name  Age           City  Salary\n",
            "1      Bob   30  San Francisco   70000\n",
            "2  Charlie   35    Los Angeles   65000\n",
            "3    David   28        Chicago   55000\n",
            "0    Alice   25       New York   50000\n",
            "4      Eve   22         Boston   45000\n",
            "Average age: 28.0\n",
            "Person with the highest salary:\n",
            " Name                Bob\n",
            "Age                  30\n",
            "City      San Francisco\n",
            "Salary            70000\n",
            "Name: 1, dtype: object\n",
            "DataFrame with Salary Category:\n",
            "       Name  Age           City  Salary Salary_Category\n",
            "0    Alice   25       New York   50000             Low\n",
            "1      Bob   30  San Francisco   70000            High\n",
            "2  Charlie   35    Los Angeles   65000            High\n",
            "3    David   28        Chicago   55000             Low\n",
            "4      Eve   22         Boston   45000             Low\n"
          ]
        }
      ]
    },
    {
      "cell_type": "markdown",
      "source": [
        "## Task 11: NumPy"
      ],
      "metadata": {
        "id": "3JdDtNQFzysD"
      }
    },
    {
      "cell_type": "code",
      "source": [
        "\"\"\"\n",
        "Create a 5x5 NumPy array of random integers between 1 and 100.\n",
        "Then, perform the following operations:\n",
        "1. Calculate the mean of each row\n",
        "2. Find the maximum value in each column\n",
        "3. Replace all odd numbers in the array with -1\n",
        "4. Calculate the determinant of the resulting matrix\n",
        "\"\"\"\n",
        "# Your code here\n",
        "\n",
        "import numpy as np\n",
        "\n",
        "# Create a 5x5 array of random integers\n",
        "arr = np.random.randint(1, 101, (5, 5))\n",
        "print(\"Array:\\n\", arr)\n",
        "\n",
        "# 1. Mean of each row\n",
        "row_means = np.mean(arr, axis=1)\n",
        "print(\"Row means:\", row_means)\n",
        "\n",
        "# 2. Maximum value in each column\n",
        "col_maxes = np.max(arr, axis=0)\n",
        "print(\"Column maxes:\", col_maxes)\n",
        "\n",
        "# 3. Replace odd numbers with -1\n",
        "arr[arr % 2 == 1] = -1\n",
        "print(\"Array with odd numbers replaced:\\n\", arr)\n",
        "\n",
        "# 4. Calculate determinant\n",
        "determinant = np.linalg.det(arr)\n",
        "print(\"Determinant:\", determinant)\n"
      ],
      "metadata": {
        "id": "9fGBN2yAz03o",
        "colab": {
          "base_uri": "https://localhost:8080/"
        },
        "outputId": "12320c39-5086-4a72-9f53-a20041d2dd9b"
      },
      "execution_count": 22,
      "outputs": [
        {
          "output_type": "stream",
          "name": "stdout",
          "text": [
            "Array:\n",
            " [[32 11 27 75 93]\n",
            " [45 24 97 60 49]\n",
            " [64 91 33 30 43]\n",
            " [ 2 28 42 77 22]\n",
            " [91 64 99 17 51]]\n",
            "Row means: [47.6 55.  52.2 34.2 64.4]\n",
            "Column maxes: [91 91 99 77 93]\n",
            "Array with odd numbers replaced:\n",
            " [[32 -1 -1 -1 -1]\n",
            " [-1 24 -1 60 -1]\n",
            " [64 -1 -1 30 -1]\n",
            " [ 2 28 42 -1 22]\n",
            " [-1 64 -1 -1 -1]]\n",
            "Determinant: -3355999.999999996\n"
          ]
        }
      ]
    },
    {
      "cell_type": "markdown",
      "source": [
        "## Task 12: Visualization with Matplotlib and Seaborn"
      ],
      "metadata": {
        "id": "8phn5TeQz3o7"
      }
    },
    {
      "cell_type": "code",
      "source": [
        "\"\"\"\n",
        "Using the DataFrame from Task 10:\n",
        "1. Create a scatter plot of Age vs Salary using Matplotlib\n",
        "2. Create a bar plot of average salary by city using Seaborn\n",
        "\"\"\"\n",
        "# Your code here\n",
        "\n",
        "import matplotlib.pyplot as plt\n",
        "import seaborn as sns\n",
        "\n",
        "# Scatter plot of Age vs Salary\n",
        "plt.figure()\n",
        "plt.scatter(df[\"Age\"], df[\"Salary\"])\n",
        "plt.xlabel(\"Age\")\n",
        "plt.ylabel(\"Salary\")\n",
        "plt.title(\"Age vs Salary\")\n",
        "plt.show()\n",
        "\n",
        "# Bar plot of average salary by city\n",
        "plt.figure()\n",
        "sns.barplot(x=\"City\", y=\"Salary\", data=df)\n",
        "plt.title(\"Average Salary by City\")\n",
        "plt.show()\n",
        "\n",
        "\n"
      ],
      "metadata": {
        "id": "EK7vLaqqz6h1",
        "colab": {
          "base_uri": "https://localhost:8080/",
          "height": 927
        },
        "outputId": "052df634-4078-496d-e60b-827fe798d023"
      },
      "execution_count": 23,
      "outputs": [
        {
          "output_type": "display_data",
          "data": {
            "text/plain": [
              "<Figure size 640x480 with 1 Axes>"
            ],
            "image/png": "[encoded data removed]"
          },
          "metadata": {}
        },
        {
          "output_type": "display_data",
          "data": {
            "text/plain": [
              "<Figure size 640x480 with 1 Axes>"
            ],
            "image/png": "[encoded data removed]"
          },
          "metadata": {}
        }
      ]
    },
    {
      "cell_type": "markdown",
      "source": [
        "## Task 13: Statistics Module"
      ],
      "metadata": {
        "id": "z9NV9HdLz8ew"
      }
    },
    {
      "cell_type": "code",
      "source": [
        "\"\"\"\n",
        "Generate a list of 1000 random numbers following a normal distribution with mean 0 and standard deviation 1.\n",
        "Using the statistics module, calculate and print:\n",
        "1. The mean\n",
        "2. The median\n",
        "3. The standard deviation\n",
        "4. The variance\n",
        "\"\"\"\n",
        "# Your code here\n",
        "\n",
        "import statistics\n",
        "\n",
        "# Generate random numbers\n",
        "data = [random.gauss(0, 1) for _ in range(1000)]\n",
        "\n",
        "# Calculate statistics\n",
        "mean = statistics.mean(data)\n",
        "median = statistics.median(data)\n",
        "stdev = statistics.stdev(data)\n",
        "variance = statistics.variance(data)\n",
        "\n",
        "print(\"Mean:\", mean)\n",
        "print(\"Median:\", median)\n",
        "print(\"Standard deviation:\", stdev)\n",
        "print(\"Variance:\", variance)\n",
        "\n",
        "\n",
        "\n"
      ],
      "metadata": {
        "id": "Cc5uw7A0z9ZH",
        "colab": {
          "base_uri": "https://localhost:8080/"
        },
        "outputId": "75280303-90c6-45bf-ddc8-fa929ca7a6fe"
      },
      "execution_count": 24,
      "outputs": [
        {
          "output_type": "stream",
          "name": "stdout",
          "text": [
            "Mean: -0.014221126704012333\n",
            "Median: 0.0076480275767226765\n",
            "Standard deviation: 0.9486914157316714\n",
            "Variance: 0.9000154022829628\n"
          ]
        }
      ]
    },
    {
      "cell_type": "markdown",
      "source": [
        "## Task 14: Random Module"
      ],
      "metadata": {
        "id": "-7MXUYDI0Acs"
      }
    },
    {
      "cell_type": "code",
      "source": [
        "\"\"\"\n",
        "Create a simple game where the computer generates a random number between 1 and 100, and the user has to guess it.\n",
        "Give the user feedback after each guess (too high, too low, or correct).\n",
        "Limit the number of guesses to 7.\n",
        "\"\"\"\n",
        "# Your code here\n",
        "\n",
        "number_to_guess = random.randint(1, 100)\n",
        "attempts = 7\n",
        "\n",
        "for _ in range(attempts):\n",
        "    guess = int(input(\"Guess the number (1-100): \"))\n",
        "    if guess < number_to_guess:\n",
        "        print(\"Too low!\")\n",
        "    elif guess > number_to_guess:\n",
        "        print(\"Too high!\")\n",
        "    else:\n",
        "        print(\"Correct!\")\n",
        "        break\n",
        "else:\n",
        "    print(\"Out of attempts! The number was:\", number_to_guess)\n",
        "\n"
      ],
      "metadata": {
        "id": "Gxg-SVMg0BWA",
        "colab": {
          "base_uri": "https://localhost:8080/"
        },
        "outputId": "10f14710-fc01-45e0-a317-e6787b510ac3"
      },
      "execution_count": 30,
      "outputs": [
        {
          "output_type": "stream",
          "name": "stdout",
          "text": [
            "Guess the number (1-100): 25\n",
            "Too low!\n",
            "Guess the number (1-100): 56\n",
            "Too high!\n",
            "Guess the number (1-100): 1\n",
            "Too low!\n",
            "Guess the number (1-100): 100\n",
            "Too high!\n",
            "Guess the number (1-100): 36\n",
            "Too low!\n",
            "Guess the number (1-100): 98\n",
            "Too high!\n",
            "Guess the number (1-100): 70\n",
            "Too high!\n",
            "Out of attempts! The number was: 49\n"
          ]
        }
      ]
    },
    {
      "cell_type": "markdown",
      "source": [
        "## Bonus Task: Combining Multiple Concepts"
      ],
      "metadata": {
        "id": "kdpVfiUh0EBc"
      }
    },
    {
      "cell_type": "code",
      "source": [
        "\"\"\"\n",
        "Create a class called 'BankAccount' with methods for deposit, withdraw, and check balance.\n",
        "Create multiple accounts and perform various transactions.\n",
        "Store the account information (account number, balance) in a Pandas DataFrame.\n",
        "Create a visualization of the account balances using Matplotlib or Seaborn.\n",
        "\"\"\"\n",
        "# Your code here\n",
        "\n",
        "class BankAccount:\n",
        "    def __init__(self, account_number, balance=0):\n",
        "        self.account_number = account_number\n",
        "        self.balance = balance\n",
        "\n",
        "    def deposit(self, amount):\n",
        "        self.balance += amount\n",
        "        print(f\"Deposited ${amount} to account {self.account_number}. New balance: ${self.balance}\")\n",
        "\n",
        "    def withdraw(self, amount):\n",
        "        if amount <= self.balance:\n",
        "            self.balance -= amount\n",
        "            print(f\"Withdrew ${amount} from account {self.account_number}. New balance: ${self.balance}\")\n",
        "        else:\n",
        "            print(\"Insufficient funds!\")\n",
        "\n",
        "    def check_balance(self):\n",
        "        print(f\"Account {self.account_number} balance: ${self.balance}\")\n",
        "\n",
        "# Create accounts and perform transactions\n",
        "accounts = [BankAccount(i, balance=random.randint(1000, 5000)) for i in range(1, 6)]\n",
        "df_accounts = pd.DataFrame([(acc.account_number, acc.balance) for acc in accounts], columns=[\"Account_Number\", \"Balance\"])\n",
        "\n",
        "# Visualize account balances\n",
        "plt.figure()\n",
        "sns.barplot(x=\"Account_Number\", y=\"Balance\", data=df_accounts)\n",
        "plt.title(\"Account Balances\")\n",
        "plt.show()\n",
        "\n"
      ],
      "metadata": {
        "id": "i0Zr8ZbR0GIc",
        "colab": {
          "base_uri": "https://localhost:8080/",
          "height": 472
        },
        "outputId": "405b1b87-cbe7-401a-ed75-c946ec86318b"
      },
      "execution_count": 31,
      "outputs": [
        {
          "output_type": "display_data",
          "data": {
            "text/plain": [
              "<Figure size 640x480 with 1 Axes>"
            ],
            "image/png": "[encoded data removed]"
          },
          "metadata": {}
        }
      ]
    }
  ]
}